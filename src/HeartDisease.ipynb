{
 "cells": [
  {
   "cell_type": "markdown",
   "id": "8b2f38b1-671b-43cd-bdd8-a3f8ad5ca852",
   "metadata": {},
   "source": [
    "# Performance evaluation\n",
    "\n",
    "I found that adapting the logic to 4 layers with a more complex dataset was not difficult, but I continuously\n",
    "got some poor results, consistently got poor results. Firstly during the activation function,\n",
    "we continuously ran into overflow errors, this was solved quite easily by normalize our data which was too\n",
    "large for our code for several inputs.\n",
    "\n",
    "Secondly and most importantly, the data didn't seem to actually improve until I drastically scaled down our\n",
    "change in weights through the introduction of a learning rate. We were likely originally overshooting our optimum\n",
    "weights at every update step, and getting stuck in a pit where our NN suddendly become way too confident by\n",
    "jumping to very large weights, and therefore through our error scaling, did not want to budge much from that point\n",
    "on.\n",
    "\n",
    "After introducing both of these fixes though, we find that our NN performes very well on our heart disease\n",
    "dataset"
   ]
  },
  {
   "cell_type": "markdown",
   "id": "3b6e5040-4128-40c6-9d44-fbcefc6f01e2",
   "metadata": {},
   "source": [
    "# Code for heart disease dataset\n",
    "This is my attempt at coding a machine learning algorithm from scratch to predict the probability of\n",
    "heart disease using the dataset from https://www.kaggle.com/datasets/mexwell/heart-disease-dataset"
   ]
  },
  {
   "cell_type": "markdown",
   "id": "1ea629a6-1585-47e3-95c6-4feb6e71d4ae",
   "metadata": {},
   "source": [
    "## Initialize the data"
   ]
  },
  {
   "cell_type": "code",
   "execution_count": 1,
   "id": "8440f505-416d-4aca-9b95-934dc4962cb9",
   "metadata": {},
   "outputs": [],
   "source": [
    "import numpy as np\n",
    "import pandas as pd\n",
    "\n",
    "np.random.seed(1)"
   ]
  },
  {
   "cell_type": "code",
   "execution_count": 2,
   "id": "b4bf7b1d-5797-48d6-9a8e-00c6805929cb",
   "metadata": {},
   "outputs": [],
   "source": [
    "data = pd.read_csv('../data/heart_statlog_cleveland_hungary_final.csv')"
   ]
  },
  {
   "cell_type": "code",
   "execution_count": 3,
   "id": "3280d4f8-5b23-4464-83db-9f0ca8a6947a",
   "metadata": {},
   "outputs": [
    {
     "data": {
      "text/html": [
       "<div>\n",
       "<style scoped>\n",
       "    .dataframe tbody tr th:only-of-type {\n",
       "        vertical-align: middle;\n",
       "    }\n",
       "\n",
       "    .dataframe tbody tr th {\n",
       "        vertical-align: top;\n",
       "    }\n",
       "\n",
       "    .dataframe thead th {\n",
       "        text-align: right;\n",
       "    }\n",
       "</style>\n",
       "<table border=\"1\" class=\"dataframe\">\n",
       "  <thead>\n",
       "    <tr style=\"text-align: right;\">\n",
       "      <th></th>\n",
       "      <th>age</th>\n",
       "      <th>sex</th>\n",
       "      <th>chest pain type</th>\n",
       "      <th>resting bp s</th>\n",
       "      <th>cholesterol</th>\n",
       "      <th>fasting blood sugar</th>\n",
       "      <th>resting ecg</th>\n",
       "      <th>max heart rate</th>\n",
       "      <th>exercise angina</th>\n",
       "      <th>oldpeak</th>\n",
       "      <th>ST slope</th>\n",
       "      <th>target</th>\n",
       "    </tr>\n",
       "  </thead>\n",
       "  <tbody>\n",
       "    <tr>\n",
       "      <th>0</th>\n",
       "      <td>40</td>\n",
       "      <td>1</td>\n",
       "      <td>2</td>\n",
       "      <td>140</td>\n",
       "      <td>289</td>\n",
       "      <td>0</td>\n",
       "      <td>0</td>\n",
       "      <td>172</td>\n",
       "      <td>0</td>\n",
       "      <td>0.0</td>\n",
       "      <td>1</td>\n",
       "      <td>0</td>\n",
       "    </tr>\n",
       "    <tr>\n",
       "      <th>1</th>\n",
       "      <td>49</td>\n",
       "      <td>0</td>\n",
       "      <td>3</td>\n",
       "      <td>160</td>\n",
       "      <td>180</td>\n",
       "      <td>0</td>\n",
       "      <td>0</td>\n",
       "      <td>156</td>\n",
       "      <td>0</td>\n",
       "      <td>1.0</td>\n",
       "      <td>2</td>\n",
       "      <td>1</td>\n",
       "    </tr>\n",
       "    <tr>\n",
       "      <th>2</th>\n",
       "      <td>37</td>\n",
       "      <td>1</td>\n",
       "      <td>2</td>\n",
       "      <td>130</td>\n",
       "      <td>283</td>\n",
       "      <td>0</td>\n",
       "      <td>1</td>\n",
       "      <td>98</td>\n",
       "      <td>0</td>\n",
       "      <td>0.0</td>\n",
       "      <td>1</td>\n",
       "      <td>0</td>\n",
       "    </tr>\n",
       "    <tr>\n",
       "      <th>3</th>\n",
       "      <td>48</td>\n",
       "      <td>0</td>\n",
       "      <td>4</td>\n",
       "      <td>138</td>\n",
       "      <td>214</td>\n",
       "      <td>0</td>\n",
       "      <td>0</td>\n",
       "      <td>108</td>\n",
       "      <td>1</td>\n",
       "      <td>1.5</td>\n",
       "      <td>2</td>\n",
       "      <td>1</td>\n",
       "    </tr>\n",
       "    <tr>\n",
       "      <th>4</th>\n",
       "      <td>54</td>\n",
       "      <td>1</td>\n",
       "      <td>3</td>\n",
       "      <td>150</td>\n",
       "      <td>195</td>\n",
       "      <td>0</td>\n",
       "      <td>0</td>\n",
       "      <td>122</td>\n",
       "      <td>0</td>\n",
       "      <td>0.0</td>\n",
       "      <td>1</td>\n",
       "      <td>0</td>\n",
       "    </tr>\n",
       "    <tr>\n",
       "      <th>...</th>\n",
       "      <td>...</td>\n",
       "      <td>...</td>\n",
       "      <td>...</td>\n",
       "      <td>...</td>\n",
       "      <td>...</td>\n",
       "      <td>...</td>\n",
       "      <td>...</td>\n",
       "      <td>...</td>\n",
       "      <td>...</td>\n",
       "      <td>...</td>\n",
       "      <td>...</td>\n",
       "      <td>...</td>\n",
       "    </tr>\n",
       "    <tr>\n",
       "      <th>1185</th>\n",
       "      <td>45</td>\n",
       "      <td>1</td>\n",
       "      <td>1</td>\n",
       "      <td>110</td>\n",
       "      <td>264</td>\n",
       "      <td>0</td>\n",
       "      <td>0</td>\n",
       "      <td>132</td>\n",
       "      <td>0</td>\n",
       "      <td>1.2</td>\n",
       "      <td>2</td>\n",
       "      <td>1</td>\n",
       "    </tr>\n",
       "    <tr>\n",
       "      <th>1186</th>\n",
       "      <td>68</td>\n",
       "      <td>1</td>\n",
       "      <td>4</td>\n",
       "      <td>144</td>\n",
       "      <td>193</td>\n",
       "      <td>1</td>\n",
       "      <td>0</td>\n",
       "      <td>141</td>\n",
       "      <td>0</td>\n",
       "      <td>3.4</td>\n",
       "      <td>2</td>\n",
       "      <td>1</td>\n",
       "    </tr>\n",
       "    <tr>\n",
       "      <th>1187</th>\n",
       "      <td>57</td>\n",
       "      <td>1</td>\n",
       "      <td>4</td>\n",
       "      <td>130</td>\n",
       "      <td>131</td>\n",
       "      <td>0</td>\n",
       "      <td>0</td>\n",
       "      <td>115</td>\n",
       "      <td>1</td>\n",
       "      <td>1.2</td>\n",
       "      <td>2</td>\n",
       "      <td>1</td>\n",
       "    </tr>\n",
       "    <tr>\n",
       "      <th>1188</th>\n",
       "      <td>57</td>\n",
       "      <td>0</td>\n",
       "      <td>2</td>\n",
       "      <td>130</td>\n",
       "      <td>236</td>\n",
       "      <td>0</td>\n",
       "      <td>2</td>\n",
       "      <td>174</td>\n",
       "      <td>0</td>\n",
       "      <td>0.0</td>\n",
       "      <td>2</td>\n",
       "      <td>1</td>\n",
       "    </tr>\n",
       "    <tr>\n",
       "      <th>1189</th>\n",
       "      <td>38</td>\n",
       "      <td>1</td>\n",
       "      <td>3</td>\n",
       "      <td>138</td>\n",
       "      <td>175</td>\n",
       "      <td>0</td>\n",
       "      <td>0</td>\n",
       "      <td>173</td>\n",
       "      <td>0</td>\n",
       "      <td>0.0</td>\n",
       "      <td>1</td>\n",
       "      <td>0</td>\n",
       "    </tr>\n",
       "  </tbody>\n",
       "</table>\n",
       "<p>1190 rows × 12 columns</p>\n",
       "</div>"
      ],
      "text/plain": [
       "      age  sex  chest pain type  resting bp s  cholesterol  \\\n",
       "0      40    1                2           140          289   \n",
       "1      49    0                3           160          180   \n",
       "2      37    1                2           130          283   \n",
       "3      48    0                4           138          214   \n",
       "4      54    1                3           150          195   \n",
       "...   ...  ...              ...           ...          ...   \n",
       "1185   45    1                1           110          264   \n",
       "1186   68    1                4           144          193   \n",
       "1187   57    1                4           130          131   \n",
       "1188   57    0                2           130          236   \n",
       "1189   38    1                3           138          175   \n",
       "\n",
       "      fasting blood sugar  resting ecg  max heart rate  exercise angina  \\\n",
       "0                       0            0             172                0   \n",
       "1                       0            0             156                0   \n",
       "2                       0            1              98                0   \n",
       "3                       0            0             108                1   \n",
       "4                       0            0             122                0   \n",
       "...                   ...          ...             ...              ...   \n",
       "1185                    0            0             132                0   \n",
       "1186                    1            0             141                0   \n",
       "1187                    0            0             115                1   \n",
       "1188                    0            2             174                0   \n",
       "1189                    0            0             173                0   \n",
       "\n",
       "      oldpeak  ST slope  target  \n",
       "0         0.0         1       0  \n",
       "1         1.0         2       1  \n",
       "2         0.0         1       0  \n",
       "3         1.5         2       1  \n",
       "4         0.0         1       0  \n",
       "...       ...       ...     ...  \n",
       "1185      1.2         2       1  \n",
       "1186      3.4         2       1  \n",
       "1187      1.2         2       1  \n",
       "1188      0.0         2       1  \n",
       "1189      0.0         1       0  \n",
       "\n",
       "[1190 rows x 12 columns]"
      ]
     },
     "execution_count": 3,
     "metadata": {},
     "output_type": "execute_result"
    }
   ],
   "source": [
    "data"
   ]
  },
  {
   "cell_type": "code",
   "execution_count": 4,
   "id": "8a7370cc-8c60-4a2a-999b-badc8c926a00",
   "metadata": {},
   "outputs": [],
   "source": [
    "X = np.array(data.drop(columns = ['target']))"
   ]
  },
  {
   "cell_type": "code",
   "execution_count": 5,
   "id": "2e411d33-7686-4a36-a2b8-1276c5e9ad2f",
   "metadata": {},
   "outputs": [
    {
     "data": {
      "text/plain": [
       "array([[40. ,  1. ,  2. , ...,  0. ,  0. ,  1. ],\n",
       "       [49. ,  0. ,  3. , ...,  0. ,  1. ,  2. ],\n",
       "       [37. ,  1. ,  2. , ...,  0. ,  0. ,  1. ],\n",
       "       ...,\n",
       "       [57. ,  1. ,  4. , ...,  1. ,  1.2,  2. ],\n",
       "       [57. ,  0. ,  2. , ...,  0. ,  0. ,  2. ],\n",
       "       [38. ,  1. ,  3. , ...,  0. ,  0. ,  1. ]])"
      ]
     },
     "execution_count": 5,
     "metadata": {},
     "output_type": "execute_result"
    }
   ],
   "source": [
    "X"
   ]
  },
  {
   "cell_type": "code",
   "execution_count": 6,
   "id": "dcd5c63f-7523-4c6e-8a0b-3d739a03e695",
   "metadata": {},
   "outputs": [],
   "source": [
    "y = np.array(pd.DataFrame(data['target']))"
   ]
  },
  {
   "cell_type": "code",
   "execution_count": 7,
   "id": "f17d14cd-061b-4a4e-bd81-9cfc6c645bb5",
   "metadata": {},
   "outputs": [
    {
     "data": {
      "text/plain": [
       "array([[0],\n",
       "       [1],\n",
       "       [0],\n",
       "       ...,\n",
       "       [1],\n",
       "       [1],\n",
       "       [0]], dtype=int64)"
      ]
     },
     "execution_count": 7,
     "metadata": {},
     "output_type": "execute_result"
    }
   ],
   "source": [
    "y"
   ]
  },
  {
   "cell_type": "markdown",
   "id": "7c78aa40-04de-40d3-9905-da85e0ce22cf",
   "metadata": {},
   "source": [
    "## Normalize the data"
   ]
  },
  {
   "cell_type": "code",
   "execution_count": null,
   "id": "6ba896b3-3344-40c3-a02d-b98d3bd48cc2",
   "metadata": {},
   "outputs": [],
   "source": [
    "X = (X - X.min(0)) / X.ptp(0)"
   ]
  },
  {
   "cell_type": "markdown",
   "id": "2120221d-d2d3-4f47-87c0-6060631e81be",
   "metadata": {},
   "source": [
    "## Initialize weights"
   ]
  },
  {
   "cell_type": "code",
   "execution_count": 8,
   "id": "93eaad4e-0444-4a4c-843a-2bc3af6b1182",
   "metadata": {},
   "outputs": [],
   "source": [
    "weights0 = 2 * np.random.rand(11, 8) - 1 # 11 Inputs into 8 hidden layer neurons\n",
    "weights1 = 2 * np.random.rand(8, 1) - 1 # 8 hidden layer neurons into 1 output neuron"
   ]
  },
  {
   "cell_type": "markdown",
   "id": "e767bc0f-5739-47f6-858b-d287960d27a1",
   "metadata": {},
   "source": [
    "## Define non-linear activation function"
   ]
  },
  {
   "cell_type": "code",
   "execution_count": 9,
   "id": "f7f90449-98ed-49f0-a4a7-9a1ad5551315",
   "metadata": {},
   "outputs": [],
   "source": [
    "# If deriv = false, x must be output of sigmoid for correct derivative\n",
    "def Sigmoid(x, deriv = False):\n",
    "    if(deriv):\n",
    "        return x * (1-x)\n",
    "    return 1 / (1+np.exp(-x))"
   ]
  },
  {
   "cell_type": "markdown",
   "id": "e73b1b77-957e-43ba-8556-ac0c5c70220b",
   "metadata": {},
   "source": [
    "## Make prediction"
   ]
  },
  {
   "cell_type": "code",
   "execution_count": 10,
   "id": "fcac5375-6344-495b-9355-4aaf88242eeb",
   "metadata": {},
   "outputs": [],
   "source": [
    "l0 = X\n",
    "l1 = Sigmoid(np.dot(X, weights0)) # Each row represents one data point, each column 1 hidden neuron\n",
    "l2 = Sigmoid(np.dot(l1, weights1)) # Each row represents estimated probability of heart failure"
   ]
  },
  {
   "cell_type": "markdown",
   "id": "607561c9-e7d6-417b-bd3d-564700dbc419",
   "metadata": {},
   "source": [
    "## Backpropagation"
   ]
  },
  {
   "cell_type": "code",
   "execution_count": 11,
   "id": "7b82aa04-3ddc-4506-a9e4-37b8bbea0c91",
   "metadata": {},
   "outputs": [],
   "source": [
    "l2_error = y - l2 # Global error\n",
    "l2_delta = l2_error * Sigmoid(l2, deriv = True) # Error scaled inversely with confidence\n",
    "\n",
    "l1_error = np.dot(l2_delta, weights1.T) # Error contribution of l1, each row is one data point, each column 1 neuron\n",
    "l1_delta = l1_error * Sigmoid(l1, deriv = True)\n",
    "\n",
    "weights1 += np.dot(l1.T, l2_delta) # change by sum of (Input * Scaled-error)\n",
    "weights0 += np.dot(l0.T, l1_delta)"
   ]
  },
  {
   "cell_type": "markdown",
   "id": "b87fa7d2-8a8d-4341-9dc2-eae771ba0f99",
   "metadata": {},
   "source": [
    "# Full Code"
   ]
  },
  {
   "cell_type": "code",
   "execution_count": 25,
   "id": "7cfe105e-a9e4-46ad-ab7a-113a2a080c96",
   "metadata": {},
   "outputs": [
    {
     "name": "stdout",
     "output_type": "stream",
     "text": [
      "0.48611925259154537\n",
      "0.14876355531697366\n",
      "0.11195342676674461\n",
      "0.09416482814483164\n",
      "0.08381843936216314\n",
      "0.08104814581689802\n",
      "0.0758853105643381\n",
      "0.08149091626322562\n",
      "0.06182989881075459\n",
      "0.05776433855307814\n",
      "0.05457669699531732\n",
      "0.05410418256510413\n"
     ]
    }
   ],
   "source": [
    "import numpy as np\n",
    "import pandas as pd\n",
    "\n",
    "data = pd.read_csv('../data/heart_statlog_cleveland_hungary_final.csv')\n",
    "X = np.array(data.drop(columns = ['target']))\n",
    "X = (X - X.min(0)) / X.ptp(0)\n",
    "y = np.array(pd.DataFrame(data['target']))\n",
    "\n",
    "np.random.seed(1)\n",
    "\n",
    "weights0 = 2 * np.random.rand(11, 8) - 1 # 11 Inputs into 8 hidden layer neurons\n",
    "weights1 = 2 * np.random.rand(8, 8) - 1 # 8 hidden layer neurons into 8 hidden layer neurons\n",
    "weights2 = 2 * np.random.rand(8, 1) - 1\n",
    "\n",
    "# If deriv = false, x must be output of sigmoid for correct derivative\n",
    "def Sigmoid(x, deriv = False):\n",
    "    if(deriv):\n",
    "        return x * (1-x)\n",
    "    return 1 / (1+np.exp(-x))\n",
    "\n",
    "learning_rate = 0.01\n",
    "\n",
    "for j in range(60000):\n",
    "    l0 = X\n",
    "    l1 = Sigmoid(np.dot(X, weights0)) # Each row represents one data point, each column 1 hidden neuron\n",
    "    l2 = Sigmoid(np.dot(l1, weights1)) # Each row represents one data point, each column 1 hidden neuron\n",
    "    l3 = Sigmoid(np.dot(l2, weights2)) # Each row represents estimated probability of heart failure\n",
    "    \n",
    "    l3_error = y - l3 # Global error\n",
    "    if (j % 5000) == 0:\n",
    "        print(np.mean(np.abs(l3_error)))\n",
    "    l3_delta = l3_error * Sigmoid(l3, deriv = True) # Error scaled inversely with confidence\n",
    "    \n",
    "    l2_error = np.dot(l3_delta, weights2.T) # Error contribution of l2, each row is one data point, each column 1 neuron\n",
    "    l2_delta = l2_error * Sigmoid(l2, deriv = True)\n",
    "\n",
    "    l1_error = np.dot(l2_delta, weights1.T) # Error contribution of l2, each row is one data point, each column 1 neuron\n",
    "    l1_delta = l1_error * Sigmoid(l1, deriv = True)\n",
    "\n",
    "    # change by sum of (Input * Scaled-error)\n",
    "    weights2 += learning_rate * np.dot(l2.T, l3_delta)\n",
    "    weights1 += learning_rate * np.dot(l1.T, l2_delta) \n",
    "    weights0 += learning_rate * np.dot(l0.T, l1_delta)"
   ]
  }
 ],
 "metadata": {
  "kernelspec": {
   "display_name": "Python 3 (ipykernel)",
   "language": "python",
   "name": "python3"
  },
  "language_info": {
   "codemirror_mode": {
    "name": "ipython",
    "version": 3
   },
   "file_extension": ".py",
   "mimetype": "text/x-python",
   "name": "python",
   "nbconvert_exporter": "python",
   "pygments_lexer": "ipython3",
   "version": "3.12.3"
  }
 },
 "nbformat": 4,
 "nbformat_minor": 5
}
