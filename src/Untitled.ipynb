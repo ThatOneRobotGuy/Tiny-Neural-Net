{
 "cells": [
  {
   "cell_type": "code",
   "execution_count": 1,
   "id": "5db21165-117d-4ba9-852e-da94807ee1f3",
   "metadata": {},
   "outputs": [],
   "source": [
    "import numpy as np\n",
    "\n",
    "X = np.array([[0,0,1],\n",
    "            [0,1,1],\n",
    "            [1,0,1],\n",
    "            [1,1,1]])\n",
    "                \n",
    "y = np.array([[0],\n",
    "              [1],\n",
    "              [1],\n",
    "              [0]])\n",
    "\n",
    "np.random.seed(1)"
   ]
  },
  {
   "cell_type": "markdown",
   "id": "c21bc548-9e94-4b8a-80bd-196979a451dc",
   "metadata": {},
   "source": [
    "## Initialize Weights"
   ]
  },
  {
   "cell_type": "code",
   "execution_count": 2,
   "id": "efae26e2-52a7-4f70-b303-fcd711bc2332",
   "metadata": {},
   "outputs": [],
   "source": [
    "weights0 = 2 * np.random.rand(3, 4) - 1\n",
    "weights1 = 2 * np.random.rand(4, 1) - 1"
   ]
  },
  {
   "cell_type": "markdown",
   "id": "beea1915-ed78-4459-920a-3729f200cb92",
   "metadata": {},
   "source": [
    "## Create activation function"
   ]
  },
  {
   "cell_type": "code",
   "execution_count": 4,
   "id": "7fde6136-34a0-45bb-886a-8e25b662db63",
   "metadata": {},
   "outputs": [],
   "source": [
    "def Sigmoid(x, deriv = False):\n",
    "    if (deriv == True):\n",
    "        return x * (1-x)\n",
    "    return 1 / (1 + np.exp(-x))"
   ]
  },
  {
   "cell_type": "markdown",
   "id": "6ca36664-7678-4480-aba9-e56390d899d0",
   "metadata": {},
   "source": [
    "## Make Prediction"
   ]
  },
  {
   "cell_type": "code",
   "execution_count": 5,
   "id": "440e877b-9c5e-4d87-8b7d-6371b9950f8c",
   "metadata": {},
   "outputs": [],
   "source": [
    "l0 = X\n",
    "l1 = Sigmoid(np.dot(l0, weights0))\n",
    "l2 = Sigmoid(np.dot(l1, weights1))"
   ]
  },
  {
   "cell_type": "markdown",
   "id": "5997b20b-9eb3-4bcd-afed-ed3f887e7571",
   "metadata": {},
   "source": [
    "## Backpropagation"
   ]
  },
  {
   "cell_type": "code",
   "execution_count": 7,
   "id": "4924a668-6e32-4c5f-b439-cbe997b7a9f3",
   "metadata": {},
   "outputs": [],
   "source": [
    "learning_rate = 1\n",
    "\n",
    "l2_error = y - l2\n",
    "l2_delta = Sigmoid(l2, deriv = True) * l2_error\n",
    "\n",
    "l1_error = np.dot(l2_delta, weights1.T)\n",
    "l1_delta = Sigmoid(l1, deriv = True) * l1_error\n",
    "\n",
    "weights1 += learning_rate * np.dot(l1.T, l2_delta)\n",
    "weights0 += learning_rate * np.dot(l0.T, l1_delta)"
   ]
  },
  {
   "cell_type": "markdown",
   "id": "67d7ada1-e314-4a30-833a-4e89c94b9b50",
   "metadata": {},
   "source": [
    "## Full Code"
   ]
  },
  {
   "cell_type": "code",
   "execution_count": 11,
   "id": "a1ec858f-0b5f-4760-80a3-540fc326fc5c",
   "metadata": {},
   "outputs": [
    {
     "name": "stdout",
     "output_type": "stream",
     "text": [
      "Err: 0.4964100319027255\n",
      "Err: 0.008584525653247157\n",
      "Err: 0.005789459862507806\n",
      "Err: 0.004629176776769983\n",
      "Err: 0.003958765280273646\n",
      "Err: 0.0035101225678616736\n"
     ]
    }
   ],
   "source": [
    "import numpy as np\n",
    "\n",
    "X = np.array([[0,0,1],\n",
    "            [0,1,1],\n",
    "            [1,0,1],\n",
    "            [1,1,1]])\n",
    "                \n",
    "y = np.array([[0],\n",
    "              [1],\n",
    "              [1],\n",
    "              [0]])\n",
    "\n",
    "np.random.seed(1)\n",
    "\n",
    "weights0 = 2 * np.random.rand(3, 4) - 1\n",
    "weights1 = 2 * np.random.rand(4, 1) - 1\n",
    "\n",
    "def Sigmoid(x, deriv = False):\n",
    "    if (deriv == True):\n",
    "        return x * (1-x)\n",
    "    return 1 / (1 + np.exp(-x))\n",
    "\n",
    "for i in range(60000):\n",
    "    l0 = X\n",
    "    l1 = Sigmoid(np.dot(l0, weights0))\n",
    "    l2 = Sigmoid(np.dot(l1, weights1))\n",
    "    \n",
    "    learning_rate = 1\n",
    "    \n",
    "    l2_error = y - l2\n",
    "\n",
    "    if (i % 10000) == 0:\n",
    "        print(\"Err: \" + str(np.mean(np.abs(l2_error))))\n",
    "    \n",
    "    l2_delta = Sigmoid(l2, deriv = True) * l2_error\n",
    "    \n",
    "    l1_error = np.dot(l2_delta, weights1.T)\n",
    "    l1_delta = Sigmoid(l1, deriv = True) * l1_error\n",
    "    \n",
    "    weights1 += learning_rate * np.dot(l1.T, l2_delta)\n",
    "    weights0 += learning_rate * np.dot(l0.T, l1_delta)"
   ]
  },
  {
   "cell_type": "code",
   "execution_count": null,
   "id": "aaaedc30-c719-491a-9a96-907e1502ec6c",
   "metadata": {},
   "outputs": [],
   "source": []
  }
 ],
 "metadata": {
  "kernelspec": {
   "display_name": "Python 3 (ipykernel)",
   "language": "python",
   "name": "python3"
  },
  "language_info": {
   "codemirror_mode": {
    "name": "ipython",
    "version": 3
   },
   "file_extension": ".py",
   "mimetype": "text/x-python",
   "name": "python",
   "nbconvert_exporter": "python",
   "pygments_lexer": "ipython3",
   "version": "3.12.3"
  }
 },
 "nbformat": 4,
 "nbformat_minor": 5
}
