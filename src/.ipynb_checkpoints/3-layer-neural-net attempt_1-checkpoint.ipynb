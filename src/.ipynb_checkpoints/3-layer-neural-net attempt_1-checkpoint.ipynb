{
 "cells": [
  {
   "cell_type": "markdown",
   "id": "16ea6fff-3e56-4384-9f33-b6e281bdca94",
   "metadata": {},
   "source": [
    "## Create training data"
   ]
  },
  {
   "cell_type": "code",
   "execution_count": 2,
   "id": "4bb09257-0d7a-47c5-b49a-89242fd7dd60",
   "metadata": {},
   "outputs": [],
   "source": [
    "import numpy as np\n",
    "\n",
    "X = np.array([[0,0,1],\n",
    "            [0,1,1],\n",
    "            [1,0,1],\n",
    "            [1,1,1]])\n",
    "                \n",
    "y = np.array([[0],\n",
    "              [1],\n",
    "              [1],\n",
    "              [0]])\n",
    "\n",
    "np.random.seed(1)"
   ]
  },
  {
   "cell_type": "markdown",
   "id": "4abf01d1-15e2-4650-bf31-75c78985f971",
   "metadata": {},
   "source": [
    "## Create non-linear neuron"
   ]
  },
  {
   "cell_type": "code",
   "execution_count": 3,
   "id": "0e463068-6b48-4b15-b39c-ed63c716b338",
   "metadata": {},
   "outputs": [],
   "source": [
    "def non_linear(x, deriv = False):\n",
    "    if(deriv):\n",
    "        return x*(1-x)\n",
    "    return 1/(1+np.exp(-x))"
   ]
  },
  {
   "cell_type": "markdown",
   "id": "db6016ad-3625-4ea5-8790-d6507981bfe3",
   "metadata": {},
   "source": [
    "## Randomize weights"
   ]
  },
  {
   "cell_type": "code",
   "execution_count": 4,
   "id": "4dddc01f-15ab-4240-b983-4c1c282d98c5",
   "metadata": {},
   "outputs": [],
   "source": [
    "weights0 = 2*np.random.rand(3,4) - 1 # Connects 3 inputs to a hidden layer with 4 neurons\n",
    "weights1 = 2*np.random.rand(4,1) - 1 # Connects 4 neurons to 1 output neuron"
   ]
  },
  {
   "cell_type": "code",
   "execution_count": 5,
   "id": "04ae429f-3db1-46a0-a66c-e732bf6813ae",
   "metadata": {},
   "outputs": [
    {
     "data": {
      "text/plain": [
       "array([[-0.16595599,  0.44064899, -0.99977125, -0.39533485],\n",
       "       [-0.70648822, -0.81532281, -0.62747958, -0.30887855],\n",
       "       [-0.20646505,  0.07763347, -0.16161097,  0.370439  ]])"
      ]
     },
     "execution_count": 5,
     "metadata": {},
     "output_type": "execute_result"
    }
   ],
   "source": [
    "weights0 # Each row corresponds to 1 input, each column corresponds to 1 neuron"
   ]
  },
  {
   "cell_type": "code",
   "execution_count": 6,
   "id": "a68e99ff-e2b1-4487-843d-e798e2927438",
   "metadata": {},
   "outputs": [
    {
     "data": {
      "text/plain": [
       "array([[-0.5910955 ],\n",
       "       [ 0.75623487],\n",
       "       [-0.94522481],\n",
       "       [ 0.34093502]])"
      ]
     },
     "execution_count": 6,
     "metadata": {},
     "output_type": "execute_result"
    }
   ],
   "source": [
    "weights1 # Each row corresponds to 1 l1 ouput"
   ]
  },
  {
   "cell_type": "markdown",
   "id": "da72f9e0-ccc0-4477-9d7b-41e25389618b",
   "metadata": {},
   "source": [
    "## Make a prediction"
   ]
  },
  {
   "cell_type": "code",
   "execution_count": 7,
   "id": "d983f2d6-6423-4531-969b-e405cecaa322",
   "metadata": {},
   "outputs": [],
   "source": [
    "l0 = X\n",
    "l1 = non_linear(np.dot(l0, weights0))"
   ]
  },
  {
   "cell_type": "code",
   "execution_count": 8,
   "id": "4ed853ba-f588-4c41-be3f-7feb3d72883c",
   "metadata": {},
   "outputs": [
    {
     "data": {
      "text/plain": [
       "array([[0.44856632, 0.51939863, 0.45968497, 0.59156505],\n",
       "       [0.28639589, 0.32350963, 0.31236398, 0.51538526],\n",
       "       [0.40795614, 0.62674606, 0.23841622, 0.49377636],\n",
       "       [0.25371248, 0.42628115, 0.14321233, 0.41732254]])"
      ]
     },
     "execution_count": 8,
     "metadata": {},
     "output_type": "execute_result"
    }
   ],
   "source": [
    "l1 # Each row represents 1 training point, each column represents output of 1 neuron"
   ]
  },
  {
   "cell_type": "code",
   "execution_count": 9,
   "id": "2a2fd3b6-139a-4da7-800f-3c2a9a8c974f",
   "metadata": {},
   "outputs": [],
   "source": [
    "l2 = non_linear(np.dot(l1, weights1))"
   ]
  },
  {
   "cell_type": "code",
   "execution_count": 10,
   "id": "7757e4ae-537f-47c3-95f8-30fcef35f7c5",
   "metadata": {},
   "outputs": [
    {
     "data": {
      "text/plain": [
       "array([[0.47372957],\n",
       "       [0.48895696],\n",
       "       [0.54384086],\n",
       "       [0.54470837]])"
      ]
     },
     "execution_count": 10,
     "metadata": {},
     "output_type": "execute_result"
    }
   ],
   "source": [
    "l2 # Each row corresponds to our NN's probability of 1 prediction"
   ]
  },
  {
   "cell_type": "markdown",
   "id": "8a745107-d1f9-4e3d-bdc0-9ba64008dbc6",
   "metadata": {},
   "source": [
    "## Backpropagation"
   ]
  },
  {
   "cell_type": "code",
   "execution_count": 11,
   "id": "6786e225-b8ad-4d1f-bd8a-0b0a837ff753",
   "metadata": {},
   "outputs": [],
   "source": [
    "error = y - l2 # How off our prediction is"
   ]
  },
  {
   "cell_type": "code",
   "execution_count": 12,
   "id": "4376a474-e31f-4704-abfe-68919155a815",
   "metadata": {},
   "outputs": [
    {
     "data": {
      "text/plain": [
       "array([[-0.47372957],\n",
       "       [ 0.51104304],\n",
       "       [ 0.45615914],\n",
       "       [-0.54470837]])"
      ]
     },
     "execution_count": 12,
     "metadata": {},
     "output_type": "execute_result"
    }
   ],
   "source": [
    "error"
   ]
  },
  {
   "cell_type": "code",
   "execution_count": 20,
   "id": "b908f7de-ea3a-4828-81ee-eacc94b3a2d8",
   "metadata": {},
   "outputs": [],
   "source": [
    "error_delta = error * non_linear(l2, deriv=True) # Error scaled inversely with confidence"
   ]
  },
  {
   "cell_type": "code",
   "execution_count": 21,
   "id": "c2036faf-44e1-4648-ba8e-c1e1f4121e9e",
   "metadata": {},
   "outputs": [
    {
     "data": {
      "text/plain": [
       "array([[-0.11810546],\n",
       "       [ 0.12769844],\n",
       "       [ 0.11316304],\n",
       "       [-0.13508831]])"
      ]
     },
     "execution_count": 21,
     "metadata": {},
     "output_type": "execute_result"
    }
   ],
   "source": [
    "error_delta"
   ]
  },
  {
   "cell_type": "code",
   "execution_count": 22,
   "id": "f65c96f5-1c3d-4806-aa5b-d312576afba4",
   "metadata": {},
   "outputs": [],
   "source": [
    "l1_error = np.dot(error_delta, weights1.T)"
   ]
  },
  {
   "cell_type": "code",
   "execution_count": 23,
   "id": "2cd26070-b533-4399-853f-a55301a2a76c",
   "metadata": {},
   "outputs": [
    {
     "data": {
      "text/plain": [
       "array([[ 0.0698116 , -0.08931546,  0.11163621, -0.04026629],\n",
       "       [-0.07548197,  0.09657001, -0.12070373,  0.04353687],\n",
       "       [-0.06689016,  0.08557784, -0.10696451,  0.03858124],\n",
       "       [ 0.07985009, -0.10215849,  0.12768882, -0.04605634]])"
      ]
     },
     "execution_count": 23,
     "metadata": {},
     "output_type": "execute_result"
    }
   ],
   "source": [
    "l1_error # Each row corresponds to one training point (error), each column to the error contribution of 1 l1 output"
   ]
  },
  {
   "cell_type": "code",
   "execution_count": 24,
   "id": "a604147b-2aaf-464d-a9e6-725689f96447",
   "metadata": {},
   "outputs": [],
   "source": [
    "l1_delta = l1_error * non_linear(l1, deriv=True) # Error contribution scaled inversely with confidence"
   ]
  },
  {
   "cell_type": "code",
   "execution_count": 25,
   "id": "053b9466-fbed-4a03-b744-c531eb792654",
   "metadata": {},
   "outputs": [
    {
     "data": {
      "text/plain": [
       "array([[ 0.01726822, -0.02229526,  0.02772761, -0.00972897],\n",
       "       [-0.0154265 ,  0.02113446, -0.02592628,  0.01087391],\n",
       "       [-0.01615584,  0.02001969, -0.01942197,  0.00964382],\n",
       "       [ 0.01511901, -0.02498445,  0.01566774, -0.01119926]])"
      ]
     },
     "execution_count": 25,
     "metadata": {},
     "output_type": "execute_result"
    }
   ],
   "source": [
    "l1_delta"
   ]
  },
  {
   "cell_type": "markdown",
   "id": "49d05f1b-07cc-4c97-aeb6-3fa4b1b3b96d",
   "metadata": {},
   "source": [
    "### Adjusting weights"
   ]
  },
  {
   "cell_type": "code",
   "execution_count": 26,
   "id": "23d18a81-0aac-4fda-9483-6a4401add7ed",
   "metadata": {},
   "outputs": [
    {
     "data": {
      "text/plain": [
       "array([[-0.00103683, -0.00496476, -0.00375422, -0.00155545],\n",
       "       [-0.00030749, -0.00384999, -0.01025854, -0.00032535],\n",
       "       [ 0.00080489, -0.00612555, -0.0019529 , -0.00041051]])"
      ]
     },
     "execution_count": 26,
     "metadata": {},
     "output_type": "execute_result"
    }
   ],
   "source": [
    "np.dot(l0.T, l1_delta)\n",
    "# Each row corresponds to changes of weights of one input\n",
    "# Each column corresponds to the change in weights of one hidden layer neuron\n",
    "# Values are sum of (input_value * scaled_error_contribution_using_input_value)"
   ]
  },
  {
   "cell_type": "code",
   "execution_count": null,
   "id": "732f8935-7f5e-49e0-b6a2-29851c62c666",
   "metadata": {},
   "outputs": [],
   "source": [
    "weights1 += np.dot(l1.T, error_delta) # Change by sum of (input * scaled error)\n",
    "weights0 += np.dot(l0.T, l1_delta) # Change by sum of (input * scaled error)"
   ]
  },
  {
   "cell_type": "markdown",
   "id": "bae0f300-122a-4882-9557-75d26edd2080",
   "metadata": {},
   "source": [
    "## Full code"
   ]
  },
  {
   "cell_type": "code",
   "execution_count": 33,
   "id": "c215598a-efad-4652-8826-0a473d29266c",
   "metadata": {},
   "outputs": [
    {
     "name": "stdout",
     "output_type": "stream",
     "text": [
      "0.4964100319027255\n",
      "0.008584525653247157\n",
      "0.005789459862507806\n",
      "0.004629176776769983\n",
      "0.003958765280273646\n",
      "0.0035101225678616736\n"
     ]
    }
   ],
   "source": [
    "import numpy as np\n",
    "\n",
    "X = np.array([[0,0,1],\n",
    "            [0,1,1],\n",
    "            [1,0,1],\n",
    "            [1,1,1]])\n",
    "                \n",
    "y = np.array([[0],\n",
    "              [1],\n",
    "              [1],\n",
    "              [0]])\n",
    "\n",
    "np.random.seed(1)\n",
    "\n",
    "weights0 = 2*np.random.rand(3,4) - 1 # Connects 3 inputs to a hidden layer with 4 neurons\n",
    "weights1 = 2*np.random.rand(4,1) - 1 # Connects 4 neurons to 1 output neuron\n",
    "\n",
    "for j in range(60000):\n",
    "    l0 = X\n",
    "    l1 = non_linear(np.dot(l0, weights0))\n",
    "    l2 = non_linear(np.dot(l1, weights1))\n",
    "    error = y - l2 # How off our prediction is\n",
    "    error_delta = error * non_linear(l2, deriv=True) # Error scaled inversely with confidence\n",
    "    l1_error = np.dot(error_delta, weights1.T)\n",
    "    l1_delta = l1_error * non_linear(l1, deriv=True) # Error contribution scaled inversely with confidence\n",
    "    weights1 += np.dot(l1.T, error_delta) # Change by sum of (input * scaled error)\n",
    "    weights0 += np.dot(l0.T, l1_delta) # Change by sum of (input * scaled error)\n",
    "    if (j % 10000 == 0):\n",
    "        print(np.mean(np.abs(error)))"
   ]
  },
  {
   "cell_type": "markdown",
   "id": "a7263442-cb7d-4b2f-8496-f12bd530dbcc",
   "metadata": {},
   "source": [
    "## My performance using memory"
   ]
  },
  {
   "cell_type": "markdown",
   "id": "035934b3-e18b-4a3d-93b2-794bc66257fa",
   "metadata": {},
   "source": [
    "Had to check original for the following:\n",
    "* Formulas for sigmoid function\n",
    "* How to calculate l1_error\n",
    "* How to adjust weights using delta values"
   ]
  }
 ],
 "metadata": {
  "kernelspec": {
   "display_name": "Python 3 (ipykernel)",
   "language": "python",
   "name": "python3"
  },
  "language_info": {
   "codemirror_mode": {
    "name": "ipython",
    "version": 3
   },
   "file_extension": ".py",
   "mimetype": "text/x-python",
   "name": "python",
   "nbconvert_exporter": "python",
   "pygments_lexer": "ipython3",
   "version": "3.12.3"
  }
 },
 "nbformat": 4,
 "nbformat_minor": 5
}
