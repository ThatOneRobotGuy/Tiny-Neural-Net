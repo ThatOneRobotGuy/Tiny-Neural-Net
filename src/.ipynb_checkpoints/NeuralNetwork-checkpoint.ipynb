{
 "cells": [
  {
   "cell_type": "markdown",
   "id": "67835a34-d6cd-4c7a-aa91-62bf78d0c1f9",
   "metadata": {},
   "source": [
    "## Import needed modules"
   ]
  },
  {
   "cell_type": "code",
   "execution_count": 83,
   "id": "82511689-573a-4e63-97a8-02f57e4d0230",
   "metadata": {},
   "outputs": [],
   "source": [
    "import numpy as np\n",
    "import pandas as pd\n",
    "\n",
    "np.random.seed(1)    "
   ]
  },
  {
   "cell_type": "markdown",
   "id": "90efd803-7eb3-492c-b8a8-e4ba1ecd2438",
   "metadata": {},
   "source": [
    "## Initialize data"
   ]
  },
  {
   "cell_type": "code",
   "execution_count": 84,
   "id": "03210a94-5b5d-432e-a923-ebedc9a23e4b",
   "metadata": {},
   "outputs": [],
   "source": [
    "data = pd.read_csv('../data/heart_statlog_cleveland_hungary_final.csv')\n",
    "X = np.array(data.drop(columns = ['target']))\n",
    "y = np.array(pd.DataFrame(data['target']))"
   ]
  },
  {
   "cell_type": "markdown",
   "id": "e021bad8-14cb-4d19-a23b-dc5bcadeaa05",
   "metadata": {},
   "source": [
    "## Define activation function"
   ]
  },
  {
   "cell_type": "code",
   "execution_count": 85,
   "id": "9c4840ae-a89f-4bf1-aa42-2df833467ff6",
   "metadata": {},
   "outputs": [],
   "source": [
    "# Sigmoid Activation Function\n",
    "# If deriv = True, x value must be output of a sigmoid function to be accurate\n",
    "def Sigmoid(x, deriv = False):\n",
    "    if(deriv):\n",
    "        return x * (1-x)\n",
    "    return 1/(1+np.exp(-x))"
   ]
  },
  {
   "cell_type": "markdown",
   "id": "143699e9-e05d-42fa-84d3-4b783470ac6c",
   "metadata": {},
   "source": [
    "## Define Neural Network Function"
   ]
  },
  {
   "cell_type": "code",
   "execution_count": 100,
   "id": "df1cc3e9-1fe9-41a8-a330-5c479a4b5bff",
   "metadata": {},
   "outputs": [],
   "source": [
    "# Binary Classification Neural Network\n",
    "# X: Numpy array, each row is one data point, each column is one input\n",
    "# y: Numpy array, each row is one response variable, one column, values are either 0 or 1\n",
    "# hiddenlayers: array containing size of hiddenlayers\n",
    "# learning_rate: number scaling (usually down) the speed of learning\n",
    "# non_linear: function for activation function with deriv parameter to return derivative given the output\n",
    "# Returns: tuple of weights, estimated probabilities, and final mean fitted error\n",
    "def NeuralNetwork(X, y, hiddenlayers, learning_rate = 0.01, iterations = 60000, non_linear = Sigmoid):\n",
    "    X = (X-X.min(0)) / X.ptp(0) # Normalize data\n",
    "\n",
    "    # Dimensions of data\n",
    "    n, inputs = X.shape\n",
    "    \n",
    "    sizes = hiddenlayers\n",
    "    sizes.insert(0, inputs)\n",
    "    sizes.append(1)\n",
    "    \n",
    "    # Initialize weights\n",
    "    weights_list = []\n",
    "    for j in range(len(sizes) - 1):\n",
    "        weights = 2 * np.random.rand(sizes[j], sizes[j+1]) - 1 # Weights from layer j to layer j+1\n",
    "        weights_list.append(weights)\n",
    "    \n",
    "    for j in range(iterations):\n",
    "        layers = [X]\n",
    "        for i in range(len(weights_list)):\n",
    "            new_layer = non_linear(np.dot(layers[-1], weights_list[i]))\n",
    "            layers.append(new_layer)\n",
    "    \n",
    "        # Backpropagation\n",
    "        global_error = y - layers[-1]\n",
    "        global_delta = global_error * Sigmoid(layers[-1], deriv = True)\n",
    "        \n",
    "        if (j % round((iterations / 6))) == 0:\n",
    "            print(\"Error: \" + str(np.mean(np.abs(global_error))))\n",
    "\n",
    "        # Calculate error contributions starting from last layers\n",
    "        layer_deltas = [global_delta]\n",
    "        for i in range(1, len(weights_list)+1):\n",
    "            layer_error = np.dot(layer_deltas[0], weights_list[-i].T)\n",
    "            layer_delta = layer_error * Sigmoid(layers[-i-1], deriv = True)\n",
    "    \n",
    "            layer_deltas.insert(0, layer_delta)\n",
    "\n",
    "        # Update weights\n",
    "        for i in range(1, len(weights_list)+1):\n",
    "            weights_list[-i] += learning_rate * np.dot(layers[-i-1].T, layer_deltas[-i])\n",
    "\n",
    "    return (weights_list, layers[-1], np.mean(np.abs(global_error)))"
   ]
  },
  {
   "cell_type": "code",
   "execution_count": 101,
   "id": "55f54a68-d29f-40a4-8367-e89a1ca6d691",
   "metadata": {},
   "outputs": [
    {
     "name": "stdout",
     "output_type": "stream",
     "text": [
      "Error: 0.5214351204212726\n",
      "Error: 0.12453082771649909\n",
      "Error: 0.10810920545822855\n",
      "Error: 0.0926540326152382\n",
      "Error: 0.08856723627674871\n",
      "Error: 0.07038599753787227\n"
     ]
    }
   ],
   "source": [
    "weights_list, y_probs, mean_error = NeuralNetwork(X, y, [8,8])"
   ]
  },
  {
   "cell_type": "code",
   "execution_count": 102,
   "id": "2a994472-6091-41bf-85b8-f5656f485faa",
   "metadata": {},
   "outputs": [
    {
     "name": "stdout",
     "output_type": "stream",
     "text": [
      "0.060735202552720316\n"
     ]
    }
   ],
   "source": [
    "print(mean_error)"
   ]
  }
 ],
 "metadata": {
  "kernelspec": {
   "display_name": "Python 3 (ipykernel)",
   "language": "python",
   "name": "python3"
  },
  "language_info": {
   "codemirror_mode": {
    "name": "ipython",
    "version": 3
   },
   "file_extension": ".py",
   "mimetype": "text/x-python",
   "name": "python",
   "nbconvert_exporter": "python",
   "pygments_lexer": "ipython3",
   "version": "3.12.3"
  }
 },
 "nbformat": 4,
 "nbformat_minor": 5
}
