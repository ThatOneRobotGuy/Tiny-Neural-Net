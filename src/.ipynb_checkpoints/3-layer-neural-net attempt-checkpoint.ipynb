{
 "cells": [
  {
   "cell_type": "markdown",
   "id": "16ea6fff-3e56-4384-9f33-b6e281bdca94",
   "metadata": {},
   "source": [
    "## Create training data"
   ]
  },
  {
   "cell_type": "code",
   "execution_count": null,
   "id": "4bb09257-0d7a-47c5-b49a-89242fd7dd60",
   "metadata": {},
   "outputs": [],
   "source": [
    "X = np.array([[0,0,1],\n",
    "            [0,1,1],\n",
    "            [1,0,1],\n",
    "            [1,1,1]])\n",
    "                \n",
    "y = np.array([[0],\n",
    "              [1],\n",
    "              [1],\n",
    "              [0]])\n",
    "\n",
    "np.random.seed(1)"
   ]
  },
  {
   "cell_type": "markdown",
   "id": "4abf01d1-15e2-4650-bf31-75c78985f971",
   "metadata": {},
   "source": [
    "## Create non-linear neuron"
   ]
  },
  {
   "cell_type": "code",
   "execution_count": null,
   "id": "0e463068-6b48-4b15-b39c-ed63c716b338",
   "metadata": {},
   "outputs": [],
   "source": [
    "def non_linear(x, deriv = False):\n",
    "    if(deriv):\n",
    "        return x*(1-x)\n",
    "    return 1/(1+exp(-x))"
   ]
  }
 ],
 "metadata": {
  "kernelspec": {
   "display_name": "Python 3 (ipykernel)",
   "language": "python",
   "name": "python3"
  },
  "language_info": {
   "codemirror_mode": {
    "name": "ipython",
    "version": 3
   },
   "file_extension": ".py",
   "mimetype": "text/x-python",
   "name": "python",
   "nbconvert_exporter": "python",
   "pygments_lexer": "ipython3",
   "version": "3.12.3"
  }
 },
 "nbformat": 4,
 "nbformat_minor": 5
}
